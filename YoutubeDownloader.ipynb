{
 "cells": [
  {
   "attachments": {},
   "cell_type": "markdown",
   "metadata": {},
   "source": [
    "# Introdução\n",
    "\n",
    "Este projeto consiste na elaboração de um programa que baixe vídeos do youtube.\n",
    "Concebido com auxílio do módulo tkinter para desenho da interface gráfica do programa."
   ]
  },
  {
   "cell_type": "code",
   "execution_count": null,
   "metadata": {},
   "outputs": [],
   "source": [
    "from tkinter import*\n",
    "from pytube import YouTube\n",
    "\n",
    "root = Tk()\n",
    "root.geometry('500x300')\n",
    "root.resizable(0,0)\n",
    "root.title(\"<Youtube_Video_Downloader>\")\n",
    "\n",
    "Label(root,text = 'Baixador de Vídeos do Youtube', font ='arial 20 bold').pack()\n",
    "\n",
    "#enter link\n",
    "link = StringVar()\n",
    "\n",
    "Label(root, text = 'Cole o Link Aqui:', font = 'arial 15 bold').place(x= 160 , y = 60)\n",
    "link_enter = Entry(root, width = 55,textvariable = link).place(x = 32, y = 90)\n",
    "\n",
    "#function to download video\n",
    "\n",
    "def Downloader():\n",
    "     \n",
    "    url = YouTube(str(link.get()))\n",
    "    video = url.streams.first()\n",
    "    video.download()\n",
    "    Label(root, text = 'ARQUIVO BAIXADO', font = 'arial 15').place(x= 180 , y = 210)\n",
    "\n",
    "Button (root,text = 'BAIXAR', font = 'arial 15 bold' ,bg = 'pale violet red', padx = 2, command = Downloader).place(x = 200 , y = 150)\n",
    "\n",
    "root.mainloop()"
   ]
  },
  {
   "attachments": {},
   "cell_type": "markdown",
   "metadata": {},
   "source": [
    "# Conclusão"
   ]
  }
 ],
 "metadata": {
  "kernelspec": {
   "display_name": "Python 3",
   "language": "python",
   "name": "python3"
  },
  "language_info": {
   "name": "python",
   "version": "3.10.6 (main, Nov 14 2022, 16:10:14) [GCC 11.3.0]"
  },
  "orig_nbformat": 4,
  "vscode": {
   "interpreter": {
    "hash": "916dbcbb3f70747c44a77c7bcd40155683ae19c65e1c03b4aa3499c5328201f1"
   }
  }
 },
 "nbformat": 4,
 "nbformat_minor": 2
}
